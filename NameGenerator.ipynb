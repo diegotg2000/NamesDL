{
 "cells": [
  {
   "cell_type": "code",
   "execution_count": 1,
   "metadata": {},
   "outputs": [],
   "source": [
    "import pandas as pd\n",
    "import numpy as np\n",
    "import matplotlib.pyplot as plt"
   ]
  },
  {
   "cell_type": "code",
   "execution_count": 2,
   "metadata": {},
   "outputs": [],
   "source": [
    "females=pd.read_csv('female_names.csv',na_values=['MARIA CONCEIÇAO',\n",
    "                                                     'ESPERANÇA',\n",
    "                                                     'FRANÇOISE',\n",
    "                                                     'MARIA ESPERANÇA',\n",
    "                                                     'DOLÇA',\n",
    "                                                     'MERÇE',\n",
    "                                                     'MARIE FRANÇOISE',\n",
    "                                                     'MARIA GRAÇA',\n",
    "                                                     'CONCEIÇAO',\n",
    "                                                     'CONSTANÇA',\n",
    "                                                     'FRANÇOISE MARIE',\n",
    "                                                     'MARIA GRAÇAS',\n",
    "                                                     \"M'BARKA\",\n",
    "                                                     'MARIA MERÇE',\n",
    "                                                     'MARIA DOLÇA',\n",
    "                                                     'SANÇA',\n",
    "                                                     'FATIMA CONCEIÇAO',\n",
    "                                                             'nan']).dropna()"
   ]
  },
  {
   "cell_type": "code",
   "execution_count": 3,
   "metadata": {},
   "outputs": [],
   "source": [
    "females.sort_values('frequency', ascending=False, inplace=True)"
   ]
  },
  {
   "cell_type": "code",
   "execution_count": 4,
   "metadata": {},
   "outputs": [],
   "source": [
    "names=[str(x)+'.' for x in females.name]"
   ]
  },
  {
   "cell_type": "code",
   "execution_count": 5,
   "metadata": {},
   "outputs": [],
   "source": [
    "distinct=[]\n",
    "for name in names:\n",
    "    for char in name:\n",
    "        if char not in distinct:\n",
    "            distinct.append(char)"
   ]
  },
  {
   "cell_type": "code",
   "execution_count": 6,
   "metadata": {},
   "outputs": [
    {
     "data": {
      "text/plain": [
       "29"
      ]
     },
     "execution_count": 6,
     "metadata": {},
     "output_type": "execute_result"
    }
   ],
   "source": [
    "len(distinct)"
   ]
  },
  {
   "cell_type": "code",
   "execution_count": 7,
   "metadata": {},
   "outputs": [],
   "source": [
    "distinct=sorted(distinct)"
   ]
  },
  {
   "cell_type": "code",
   "execution_count": 8,
   "metadata": {},
   "outputs": [],
   "source": [
    "char2ix={c:i for i,c in enumerate(distinct)}\n",
    "ix2char={i:c for i,c in enumerate(distinct)}"
   ]
  },
  {
   "cell_type": "code",
   "execution_count": 9,
   "metadata": {},
   "outputs": [],
   "source": [
    "X=[]\n",
    "for name in names:\n",
    "    #print(name)\n",
    "    encoding=[char2ix[c] for c in name]\n",
    "    number_name=''.join(str(encoding))\n",
    "    #print(number_name)\n",
    "    x=np.zeros((1,len(encoding)+1, 29),dtype='float32')\n",
    "    for n, ix in enumerate(encoding):\n",
    "        x[0,n+1,ix]=1\n",
    "    #print(x)\n",
    "    X.append(x)"
   ]
  },
  {
   "cell_type": "code",
   "execution_count": 10,
   "metadata": {},
   "outputs": [
    {
     "data": {
      "text/plain": [
       "array([[[0., 0., 0., 0., 0., 0., 0., 0., 0., 0., 0., 0., 0., 0., 0., 0.,\n",
       "         0., 0., 0., 0., 0., 0., 0., 0., 0., 0., 0., 0., 0.],\n",
       "        [0., 0., 0., 0., 0., 0., 0., 0., 0., 0., 0., 0., 0., 0., 1., 0.,\n",
       "         0., 0., 0., 0., 0., 0., 0., 0., 0., 0., 0., 0., 0.],\n",
       "        [0., 0., 1., 0., 0., 0., 0., 0., 0., 0., 0., 0., 0., 0., 0., 0.,\n",
       "         0., 0., 0., 0., 0., 0., 0., 0., 0., 0., 0., 0., 0.],\n",
       "        [0., 0., 0., 0., 0., 0., 0., 0., 0., 0., 0., 0., 0., 0., 0., 0.,\n",
       "         0., 0., 0., 1., 0., 0., 0., 0., 0., 0., 0., 0., 0.],\n",
       "        [0., 0., 0., 0., 0., 0., 0., 0., 0., 0., 1., 0., 0., 0., 0., 0.,\n",
       "         0., 0., 0., 0., 0., 0., 0., 0., 0., 0., 0., 0., 0.],\n",
       "        [0., 0., 1., 0., 0., 0., 0., 0., 0., 0., 0., 0., 0., 0., 0., 0.,\n",
       "         0., 0., 0., 0., 0., 0., 0., 0., 0., 0., 0., 0., 0.],\n",
       "        [1., 0., 0., 0., 0., 0., 0., 0., 0., 0., 0., 0., 0., 0., 0., 0.,\n",
       "         0., 0., 0., 0., 0., 0., 0., 0., 0., 0., 0., 0., 0.],\n",
       "        [0., 0., 0., 0., 1., 0., 0., 0., 0., 0., 0., 0., 0., 0., 0., 0.,\n",
       "         0., 0., 0., 0., 0., 0., 0., 0., 0., 0., 0., 0., 0.],\n",
       "        [0., 0., 1., 0., 0., 0., 0., 0., 0., 0., 0., 0., 0., 0., 0., 0.,\n",
       "         0., 0., 0., 0., 0., 0., 0., 0., 0., 0., 0., 0., 0.],\n",
       "        [0., 0., 0., 0., 0., 0., 0., 0., 0., 0., 0., 0., 0., 0., 0., 0.,\n",
       "         0., 0., 0., 1., 0., 0., 0., 0., 0., 0., 0., 0., 0.],\n",
       "        [0., 0., 0., 0., 0., 0., 0., 0., 0., 0., 0., 0., 0., 0., 1., 0.,\n",
       "         0., 0., 0., 0., 0., 0., 0., 0., 0., 0., 0., 0., 0.],\n",
       "        [0., 0., 0., 0., 0., 0., 1., 0., 0., 0., 0., 0., 0., 0., 0., 0.,\n",
       "         0., 0., 0., 0., 0., 0., 0., 0., 0., 0., 0., 0., 0.],\n",
       "        [0., 0., 0., 0., 0., 0., 0., 0., 0., 0., 0., 0., 0., 0., 0., 1.,\n",
       "         0., 0., 0., 0., 0., 0., 0., 0., 0., 0., 0., 0., 0.],\n",
       "        [0., 1., 0., 0., 0., 0., 0., 0., 0., 0., 0., 0., 0., 0., 0., 0.,\n",
       "         0., 0., 0., 0., 0., 0., 0., 0., 0., 0., 0., 0., 0.]]],\n",
       "      dtype=float32)"
      ]
     },
     "execution_count": 10,
     "metadata": {},
     "output_type": "execute_result"
    }
   ],
   "source": [
    "X[0]"
   ]
  },
  {
   "cell_type": "code",
   "execution_count": 11,
   "metadata": {},
   "outputs": [],
   "source": [
    "import tensorflow as tf\n",
    "gpus = tf.config.experimental.list_physical_devices('GPU')\n",
    "tf.config.experimental.set_virtual_device_configuration(gpus[0], [tf.config.experimental.VirtualDeviceConfiguration(memory_limit=2048)])"
   ]
  },
  {
   "cell_type": "code",
   "execution_count": 12,
   "metadata": {},
   "outputs": [],
   "source": [
    "from tensorflow.keras.layers import LSTM, Dense, Input\n",
    "from tensorflow.keras.models import Model"
   ]
  },
  {
   "cell_type": "code",
   "execution_count": 13,
   "metadata": {},
   "outputs": [],
   "source": [
    "lstm=LSTM(64, return_sequences=True)\n",
    "densor=Dense(29, activation='softmax')"
   ]
  },
  {
   "cell_type": "code",
   "execution_count": 14,
   "metadata": {},
   "outputs": [],
   "source": [
    "class miRNN:\n",
    "    def forward(self, inputs):\n",
    "        x = lstm(inputs)\n",
    "        x = densor(x)\n",
    "        return x\n",
    "    \n",
    "    def give_model(self):\n",
    "        inputs = Input(shape=(None,29))\n",
    "        outputs = self.forward(inputs)\n",
    "        \n",
    "        model = Model(inputs=inputs, outputs=outputs)\n",
    "        \n",
    "        return model"
   ]
  },
  {
   "cell_type": "code",
   "execution_count": 15,
   "metadata": {},
   "outputs": [],
   "source": [
    "model = miRNN().give_model()"
   ]
  },
  {
   "cell_type": "code",
   "execution_count": 16,
   "metadata": {},
   "outputs": [
    {
     "name": "stdout",
     "output_type": "stream",
     "text": [
      "Model: \"functional_1\"\n",
      "_________________________________________________________________\n",
      "Layer (type)                 Output Shape              Param #   \n",
      "=================================================================\n",
      "input_1 (InputLayer)         [(None, None, 29)]        0         \n",
      "_________________________________________________________________\n",
      "lstm (LSTM)                  (None, None, 64)          24064     \n",
      "_________________________________________________________________\n",
      "dense (Dense)                (None, None, 29)          1885      \n",
      "=================================================================\n",
      "Total params: 25,949\n",
      "Trainable params: 25,949\n",
      "Non-trainable params: 0\n",
      "_________________________________________________________________\n"
     ]
    }
   ],
   "source": [
    "model.summary()"
   ]
  },
  {
   "cell_type": "code",
   "execution_count": 19,
   "metadata": {},
   "outputs": [],
   "source": [
    "model.compile(loss='categorical_crossentropy', optimizer='adam', metrics=['accuracy'])"
   ]
  },
  {
   "cell_type": "code",
   "execution_count": 17,
   "metadata": {},
   "outputs": [],
   "source": [
    "Y=[]\n",
    "for i,x in enumerate(X):\n",
    "    Y.append(x[0,1:,:].reshape(1,-1,29))\n",
    "    X[i]=x[0,:-1,:].reshape(1,-1,29)"
   ]
  },
  {
   "cell_type": "code",
   "execution_count": 22,
   "metadata": {},
   "outputs": [
    {
     "name": "stdout",
     "output_type": "stream",
     "text": [
      "Training on the 1 epoch\n",
      "Training on the 2 epoch\n",
      "Training on the 3 epoch\n",
      "Training on the 4 epoch\n",
      "Training on the 5 epoch\n"
     ]
    }
   ],
   "source": [
    "for epoch in range(5):\n",
    "    print(f'Training on the {epoch+1} epoch')\n",
    "    for i in range(len(X)):\n",
    "        model.fit(X[i],Y[i],epochs=1,verbose=0)"
   ]
  },
  {
   "cell_type": "code",
   "execution_count": 177,
   "metadata": {},
   "outputs": [
    {
     "data": {
      "text/plain": [
       "['N',\n",
       " 'A',\n",
       " ' ',\n",
       " 'M',\n",
       " 'A',\n",
       " 'R',\n",
       " 'I',\n",
       " 'A',\n",
       " ' ',\n",
       " 'A',\n",
       " 'L',\n",
       " 'E',\n",
       " 'J',\n",
       " 'A',\n",
       " 'N',\n",
       " 'D',\n",
       " 'R',\n",
       " 'A',\n",
       " '.']"
      ]
     },
     "execution_count": 177,
     "metadata": {},
     "output_type": "execute_result"
    }
   ],
   "source": [
    "name_test='ANA MARIA ALEJANDRA'\n",
    "name_test_list=[char2ix[c] for c in name_test]\n",
    "name_test_final=np.zeros((1,len(name_test),29))\n",
    "for n,char in enumerate(name_test_list):\n",
    "    name_test_final[0,n,char]=1\n",
    "\n",
    "prediction=model.predict(name_test_final)\n",
    "\n",
    "([ix2char[int(n)] for n in  np.argmax(prediction,axis=2).reshape(-1)])"
   ]
  },
  {
   "cell_type": "code",
   "execution_count": 448,
   "metadata": {},
   "outputs": [
    {
     "name": "stdout",
     "output_type": "stream",
     "text": [
      "S\n",
      "A\n",
      "N\n",
      "D\n",
      "R\n",
      "A\n",
      " \n",
      "V\n",
      "A\n",
      "L\n",
      "E\n",
      "N\n",
      "T\n",
      "I\n",
      "N\n",
      "A\n",
      ".\n",
      "SANDRA VALENTINA. 195\n"
     ]
    }
   ],
   "source": [
    "np.random.seed(k)\n",
    "inicial=np.zeros((1,1,29))\n",
    "name=inicial\n",
    "nombre=''\n",
    "for n in range(40):\n",
    "    next_index=np.random.choice(range(29), p=model.predict(name)[:,-1,:].reshape(-1))\n",
    "    next_char=ix2char[next_index]\n",
    "    print(next_char)\n",
    "    nombre+=next_char\n",
    "    next_vector=np.zeros((1,1,29))\n",
    "    next_vector[0,0,next_index]=1\n",
    "    name=np.concatenate((name,next_vector),axis=1)\n",
    "    if next_char == '.':\n",
    "        break\n",
    "print(nombre, k)\n",
    "k+=1"
   ]
  },
  {
   "cell_type": "code",
   "execution_count": 449,
   "metadata": {},
   "outputs": [
    {
     "data": {
      "text/plain": [
       "False"
      ]
     },
     "execution_count": 449,
     "metadata": {},
     "output_type": "execute_result"
    }
   ],
   "source": [
    "nombre in names"
   ]
  },
  {
   "cell_type": "code",
   "execution_count": null,
   "metadata": {},
   "outputs": [],
   "source": []
  },
  {
   "cell_type": "code",
   "execution_count": 358,
   "metadata": {},
   "outputs": [
    {
     "name": "stdout",
     "output_type": "stream",
     "text": [
      "WARNING:tensorflow:From /home/diego/.local/lib/python3.8/site-packages/tensorflow/python/training/tracking/tracking.py:111: Model.state_updates (from tensorflow.python.keras.engine.training) is deprecated and will be removed in a future version.\n",
      "Instructions for updating:\n",
      "This property should not be used in TensorFlow 2.0, as updates are applied automatically.\n",
      "WARNING:tensorflow:From /home/diego/.local/lib/python3.8/site-packages/tensorflow/python/training/tracking/tracking.py:111: Layer.updates (from tensorflow.python.keras.engine.base_layer) is deprecated and will be removed in a future version.\n",
      "Instructions for updating:\n",
      "This property should not be used in TensorFlow 2.0, as updates are applied automatically.\n",
      "INFO:tensorflow:Assets written to: nombresGeneratorF/assets\n"
     ]
    }
   ],
   "source": [
    "model.save('nombresGeneratorF')"
   ]
  }
 ],
 "metadata": {
  "kernelspec": {
   "display_name": "Python 3",
   "language": "python",
   "name": "python3"
  },
  "language_info": {
   "codemirror_mode": {
    "name": "ipython",
    "version": 3
   },
   "file_extension": ".py",
   "mimetype": "text/x-python",
   "name": "python",
   "nbconvert_exporter": "python",
   "pygments_lexer": "ipython3",
   "version": "3.8.5"
  }
 },
 "nbformat": 4,
 "nbformat_minor": 4
}
