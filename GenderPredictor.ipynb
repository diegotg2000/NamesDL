{
 "cells": [
  {
   "cell_type": "code",
   "execution_count": 57,
   "metadata": {},
   "outputs": [],
   "source": [
    "import pandas as pd\n",
    "import numpy as np\n",
    "import matplotlib.pyplot as plt\n",
    "import random\n",
    "plt.style.use('dark_background')"
   ]
  },
  {
   "cell_type": "code",
   "execution_count": 2,
   "metadata": {},
   "outputs": [],
   "source": [
    "def crear(gender):\n",
    "    names=[]\n",
    "    df=pd.read_csv(f'{gender}_names.csv').dropna()\n",
    "    df.sort_values('frequency',ascending=False,inplace=True)\n",
    "    for x in df.name:\n",
    "        if(('Ç'in x)or(\"'\"in x)):\n",
    "            pass\n",
    "        else:\n",
    "            nombres=x.split(' ')\n",
    "            for n in nombres:\n",
    "                names.append(n)\n",
    "                \n",
    "    names=list(set(names))\n",
    "    return names"
   ]
  },
  {
   "cell_type": "code",
   "execution_count": 3,
   "metadata": {},
   "outputs": [],
   "source": [
    "female=crear('female')\n",
    "male=crear('male')"
   ]
  },
  {
   "cell_type": "code",
   "execution_count": 5,
   "metadata": {},
   "outputs": [],
   "source": [
    "distinct=[]\n",
    "for lista in [female, male]:\n",
    "    for n in lista:\n",
    "        for char in n:\n",
    "            if char not in distinct:\n",
    "                distinct.append(char)"
   ]
  },
  {
   "cell_type": "code",
   "execution_count": 8,
   "metadata": {},
   "outputs": [],
   "source": [
    "distinct=sorted(distinct)"
   ]
  },
  {
   "cell_type": "code",
   "execution_count": 49,
   "metadata": {},
   "outputs": [],
   "source": [
    "char2ix={c:i for i,c in enumerate(distinct)}\n",
    "ix2char={i:c for i,c in enumerate(distinct)}"
   ]
  },
  {
   "cell_type": "code",
   "execution_count": 27,
   "metadata": {},
   "outputs": [
    {
     "data": {
      "text/plain": [
       "<matplotlib.legend.Legend at 0x7fa02624ecd0>"
      ]
     },
     "execution_count": 27,
     "metadata": {},
     "output_type": "execute_result"
    },
    {
     "data": {
      "image/png": "[encoded data removed]",
      "text/plain": [
       "<Figure size 432x288 with 1 Axes>"
      ]
     },
     "metadata": {},
     "output_type": "display_data"
    }
   ],
   "source": [
    "for lista,color,name in zip([female, male],['blue','red'],['F','M']):\n",
    "    x,y=np.unique([len(name) for name in lista], return_counts=True)\n",
    "    plt.bar(x,y,color=color,label=name,alpha=0.4)\n",
    "plt.legend()"
   ]
  },
  {
   "cell_type": "code",
   "execution_count": 50,
   "metadata": {},
   "outputs": [],
   "source": [
    "data=[]\n",
    "for i,lista in enumerate([female, male]):\n",
    "    for name in lista:\n",
    "        encoding=[char2ix[c] for c in name]\n",
    "        x=np.zeros((1,14, 27),dtype='float32')\n",
    "        for n, ix in enumerate(encoding):\n",
    "            x[0,n,ix]=1\n",
    "        data.append((x,i))"
   ]
  },
  {
   "cell_type": "code",
   "execution_count": 58,
   "metadata": {},
   "outputs": [],
   "source": [
    "random.seed(9)\n",
    "random.shuffle(data)"
   ]
  },
  {
   "cell_type": "code",
   "execution_count": 62,
   "metadata": {},
   "outputs": [],
   "source": [
    "X=[]\n",
    "Y=[]\n",
    "for x, y in data:\n",
    "    X.append(x)\n",
    "    Y.append(y)"
   ]
  },
  {
   "cell_type": "code",
   "execution_count": 64,
   "metadata": {},
   "outputs": [],
   "source": [
    "X=np.array(X)"
   ]
  },
  {
   "cell_type": "code",
   "execution_count": 66,
   "metadata": {},
   "outputs": [],
   "source": [
    "X=X.reshape(-1,14,27)"
   ]
  },
  {
   "cell_type": "code",
   "execution_count": 71,
   "metadata": {},
   "outputs": [],
   "source": [
    "Y=np.array(Y)"
   ]
  },
  {
   "cell_type": "code",
   "execution_count": 73,
   "metadata": {},
   "outputs": [],
   "source": [
    "import tensorflow as tf\n",
    "gpus = tf.config.experimental.list_physical_devices('GPU')\n",
    "tf.config.experimental.set_virtual_device_configuration(gpus[0], [tf.config.experimental.VirtualDeviceConfiguration(memory_limit=2048)])"
   ]
  },
  {
   "cell_type": "code",
   "execution_count": 74,
   "metadata": {},
   "outputs": [],
   "source": [
    "from tensorflow.keras.layers import LSTM, Dense, Input, Masking\n",
    "from tensorflow.keras.models import Model"
   ]
  },
  {
   "cell_type": "code",
   "execution_count": 99,
   "metadata": {},
   "outputs": [],
   "source": [
    "masking=Masking(mask_value=0.,input_shape=(14,27))\n",
    "lstm=LSTM(64, return_sequences=False)\n",
    "densor=Dense(1, activation='sigmoid')"
   ]
  },
  {
   "cell_type": "code",
   "execution_count": 100,
   "metadata": {},
   "outputs": [],
   "source": [
    "class miRNN:\n",
    "    def forward(self, inputs):\n",
    "        x = masking(inputs)\n",
    "        x = lstm(x)\n",
    "        x = Dense(32)(x)\n",
    "        x = densor(x)\n",
    "        return x\n",
    "    \n",
    "    def give_model(self):\n",
    "        inputs = Input(shape=(14,27))\n",
    "        outputs = self.forward(inputs)\n",
    "        \n",
    "        model = Model(inputs=inputs, outputs=outputs)\n",
    "        \n",
    "        return model"
   ]
  },
  {
   "cell_type": "code",
   "execution_count": 101,
   "metadata": {},
   "outputs": [],
   "source": [
    "model = miRNN().give_model()"
   ]
  },
  {
   "cell_type": "code",
   "execution_count": 102,
   "metadata": {},
   "outputs": [
    {
     "name": "stdout",
     "output_type": "stream",
     "text": [
      "Model: \"functional_9\"\n",
      "_________________________________________________________________\n",
      "Layer (type)                 Output Shape              Param #   \n",
      "=================================================================\n",
      "input_6 (InputLayer)         [(None, 14, 27)]          0         \n",
      "_________________________________________________________________\n",
      "masking_3 (Masking)          (None, 14, 27)            0         \n",
      "_________________________________________________________________\n",
      "lstm_3 (LSTM)                (None, 64)                23552     \n",
      "_________________________________________________________________\n",
      "dense_8 (Dense)              (None, 32)                2080      \n",
      "_________________________________________________________________\n",
      "dense_7 (Dense)              (None, 1)                 33        \n",
      "=================================================================\n",
      "Total params: 25,665\n",
      "Trainable params: 25,665\n",
      "Non-trainable params: 0\n",
      "_________________________________________________________________\n"
     ]
    }
   ],
   "source": [
    "model.summary()"
   ]
  },
  {
   "cell_type": "code",
   "execution_count": 103,
   "metadata": {},
   "outputs": [],
   "source": [
    "model.compile(loss='binary_crossentropy', optimizer='adam', metrics=['accuracy'])"
   ]
  },
  {
   "cell_type": "code",
   "execution_count": 104,
   "metadata": {
    "collapsed": true,
    "jupyter": {
     "outputs_hidden": true
    }
   },
   "outputs": [
    {
     "name": "stdout",
     "output_type": "stream",
     "text": [
      "Epoch 1/35\n",
      "277/277 [==============================] - 1s 4ms/step - loss: 0.5260 - accuracy: 0.7355\n",
      "Epoch 2/35\n",
      "277/277 [==============================] - 1s 4ms/step - loss: 0.4672 - accuracy: 0.7783\n",
      "Epoch 3/35\n",
      "277/277 [==============================] - 1s 4ms/step - loss: 0.4592 - accuracy: 0.7805\n",
      "Epoch 4/35\n",
      "277/277 [==============================] - 1s 4ms/step - loss: 0.4503 - accuracy: 0.7859\n",
      "Epoch 5/35\n",
      "277/277 [==============================] - 1s 4ms/step - loss: 0.4436 - accuracy: 0.7901\n",
      "Epoch 6/35\n",
      "277/277 [==============================] - 1s 4ms/step - loss: 0.4351 - accuracy: 0.7945\n",
      "Epoch 7/35\n",
      "277/277 [==============================] - 1s 4ms/step - loss: 0.4262 - accuracy: 0.7992\n",
      "Epoch 8/35\n",
      "277/277 [==============================] - 1s 4ms/step - loss: 0.4173 - accuracy: 0.8059\n",
      "Epoch 9/35\n",
      "277/277 [==============================] - 1s 4ms/step - loss: 0.4069 - accuracy: 0.8117\n",
      "Epoch 10/35\n",
      "277/277 [==============================] - 1s 4ms/step - loss: 0.3998 - accuracy: 0.8171\n",
      "Epoch 11/35\n",
      "277/277 [==============================] - 1s 4ms/step - loss: 0.3924 - accuracy: 0.8202\n",
      "Epoch 12/35\n",
      "277/277 [==============================] - 1s 4ms/step - loss: 0.3848 - accuracy: 0.8251\n",
      "Epoch 13/35\n",
      "277/277 [==============================] - 1s 4ms/step - loss: 0.3780 - accuracy: 0.8294\n",
      "Epoch 14/35\n",
      "277/277 [==============================] - 1s 4ms/step - loss: 0.3730 - accuracy: 0.8315\n",
      "Epoch 15/35\n",
      "277/277 [==============================] - 1s 4ms/step - loss: 0.3672 - accuracy: 0.8329\n",
      "Epoch 16/35\n",
      "277/277 [==============================] - 1s 4ms/step - loss: 0.3600 - accuracy: 0.8377\n",
      "Epoch 17/35\n",
      "277/277 [==============================] - 1s 4ms/step - loss: 0.3539 - accuracy: 0.8404\n",
      "Epoch 18/35\n",
      "277/277 [==============================] - 1s 4ms/step - loss: 0.3499 - accuracy: 0.8426\n",
      "Epoch 19/35\n",
      "277/277 [==============================] - 1s 4ms/step - loss: 0.3450 - accuracy: 0.8454\n",
      "Epoch 20/35\n",
      "277/277 [==============================] - 1s 4ms/step - loss: 0.3396 - accuracy: 0.8477\n",
      "Epoch 21/35\n",
      "277/277 [==============================] - 1s 4ms/step - loss: 0.3362 - accuracy: 0.8495\n",
      "Epoch 22/35\n",
      "277/277 [==============================] - 1s 4ms/step - loss: 0.3301 - accuracy: 0.8515\n",
      "Epoch 23/35\n",
      "277/277 [==============================] - 1s 4ms/step - loss: 0.3253 - accuracy: 0.8562\n",
      "Epoch 24/35\n",
      "277/277 [==============================] - 1s 4ms/step - loss: 0.3211 - accuracy: 0.8581\n",
      "Epoch 25/35\n",
      "277/277 [==============================] - 1s 4ms/step - loss: 0.3150 - accuracy: 0.8612\n",
      "Epoch 26/35\n",
      "277/277 [==============================] - 1s 4ms/step - loss: 0.3116 - accuracy: 0.8643\n",
      "Epoch 27/35\n",
      "277/277 [==============================] - 1s 4ms/step - loss: 0.3060 - accuracy: 0.8649\n",
      "Epoch 28/35\n",
      "277/277 [==============================] - 1s 4ms/step - loss: 0.3021 - accuracy: 0.8674\n",
      "Epoch 29/35\n",
      "277/277 [==============================] - 1s 4ms/step - loss: 0.2971 - accuracy: 0.8705\n",
      "Epoch 30/35\n",
      "277/277 [==============================] - 1s 4ms/step - loss: 0.2930 - accuracy: 0.8719\n",
      "Epoch 31/35\n",
      "277/277 [==============================] - 1s 4ms/step - loss: 0.2880 - accuracy: 0.8733\n",
      "Epoch 32/35\n",
      "277/277 [==============================] - 1s 4ms/step - loss: 0.2842 - accuracy: 0.8768\n",
      "Epoch 33/35\n",
      "277/277 [==============================] - 1s 4ms/step - loss: 0.2795 - accuracy: 0.8777\n",
      "Epoch 34/35\n",
      "277/277 [==============================] - 1s 4ms/step - loss: 0.2757 - accuracy: 0.8778\n",
      "Epoch 35/35\n",
      "277/277 [==============================] - 1s 4ms/step - loss: 0.2700 - accuracy: 0.8818\n"
     ]
    },
    {
     "data": {
      "text/plain": [
       "<tensorflow.python.keras.callbacks.History at 0x7f9ef02319d0>"
      ]
     },
     "execution_count": 104,
     "metadata": {},
     "output_type": "execute_result"
    }
   ],
   "source": [
    "model.fit(X,Y,batch_size=64,epochs=35)"
   ]
  },
  {
   "cell_type": "code",
   "execution_count": 127,
   "metadata": {},
   "outputs": [],
   "source": [
    "def classify(name):\n",
    "    letras=len(name)\n",
    "    X=np.zeros((1,letras,27),dtype='float32')\n",
    "    indices=[char2ix[char] for char in name]\n",
    "    for n,ix in enumerate(indices):\n",
    "        X[0,n,ix]=1\n",
    "    \n",
    "    pred=model.predict(X)\n",
    "    if pred > 0.5:\n",
    "        return('Hombre')\n",
    "    return('Mujer')"
   ]
  },
  {
   "cell_type": "code",
   "execution_count": 194,
   "metadata": {},
   "outputs": [
    {
     "data": {
      "text/plain": [
       "'Mujer'"
      ]
     },
     "execution_count": 194,
     "metadata": {},
     "output_type": "execute_result"
    }
   ],
   "source": [
    "classify('LUISA')"
   ]
  },
  {
   "cell_type": "code",
   "execution_count": null,
   "metadata": {},
   "outputs": [],
   "source": []
  }
 ],
 "metadata": {
  "kernelspec": {
   "display_name": "Python 3",
   "language": "python",
   "name": "python3"
  },
  "language_info": {
   "codemirror_mode": {
    "name": "ipython",
    "version": 3
   },
   "file_extension": ".py",
   "mimetype": "text/x-python",
   "name": "python",
   "nbconvert_exporter": "python",
   "pygments_lexer": "ipython3",
   "version": "3.8.5"
  }
 },
 "nbformat": 4,
 "nbformat_minor": 4
}
