{
 "cells": [
  {
   "cell_type": "code",
   "execution_count": 1,
   "metadata": {},
   "outputs": [],
   "source": [
    "import pandas as pd\n",
    "import numpy as np\n",
    "import matplotlib.pyplot as plt\n",
    "import random\n",
    "plt.style.use('dark_background')"
   ]
  },
  {
   "cell_type": "code",
   "execution_count": 2,
   "metadata": {},
   "outputs": [],
   "source": [
    "def crear(gender):\n",
    "    names=[]\n",
    "    df=pd.read_csv(f'{gender}_names.csv').dropna()\n",
    "    df.sort_values('frequency',ascending=False,inplace=True)\n",
    "    for x in df.name:\n",
    "        if(('Ç'in x)or(\"'\"in x)):\n",
    "            pass\n",
    "        else:\n",
    "            nombres=x.split(' ')\n",
    "            for n in nombres:\n",
    "                names.append(n)\n",
    "                \n",
    "    names=list(set(names))\n",
    "    return names"
   ]
  },
  {
   "cell_type": "code",
   "execution_count": 21,
   "metadata": {},
   "outputs": [],
   "source": [
    "female=crear('female')\n",
    "male=crear('male')"
   ]
  },
  {
   "cell_type": "code",
   "execution_count": 22,
   "metadata": {},
   "outputs": [],
   "source": [
    "nombres=female+male\n",
    "del female,male"
   ]
  },
  {
   "cell_type": "code",
   "execution_count": 23,
   "metadata": {},
   "outputs": [],
   "source": [
    "distinct=[]\n",
    "for n in nombres:\n",
    "    for char in n:\n",
    "        if char not in distinct:\n",
    "            distinct.append(char)"
   ]
  },
  {
   "cell_type": "code",
   "execution_count": 24,
   "metadata": {},
   "outputs": [],
   "source": [
    "distinct=sorted(distinct)"
   ]
  },
  {
   "cell_type": "code",
   "execution_count": 25,
   "metadata": {},
   "outputs": [],
   "source": [
    "char2ix={c:i for i,c in enumerate(distinct)}\n",
    "ix2char={i:c for i,c in enumerate(distinct)}"
   ]
  },
  {
   "cell_type": "code",
   "execution_count": 26,
   "metadata": {},
   "outputs": [],
   "source": [
    "random.seed(1)\n",
    "random.shuffle(nombres)"
   ]
  },
  {
   "cell_type": "code",
   "execution_count": 27,
   "metadata": {},
   "outputs": [],
   "source": [
    "x,y=np.unique([len(name) for name in nombres],return_counts=True)"
   ]
  },
  {
   "cell_type": "code",
   "execution_count": 28,
   "metadata": {},
   "outputs": [
    {
     "data": {
      "text/plain": [
       "<BarContainer object of 14 artists>"
      ]
     },
     "execution_count": 28,
     "metadata": {},
     "output_type": "execute_result"
    },
    {
     "data": {
      "image/png": "[encoded data removed]",
      "text/plain": [
       "<Figure size 432x288 with 1 Axes>"
      ]
     },
     "metadata": {},
     "output_type": "display_data"
    }
   ],
   "source": [
    "plt.bar(x,y)"
   ]
  },
  {
   "cell_type": "code",
   "execution_count": 29,
   "metadata": {},
   "outputs": [],
   "source": [
    "nombres=list(set(nombres))"
   ]
  },
  {
   "cell_type": "code",
   "execution_count": 30,
   "metadata": {},
   "outputs": [],
   "source": [
    "nombres = [name for name in nombres if len(name)>5]"
   ]
  },
  {
   "cell_type": "code",
   "execution_count": 31,
   "metadata": {},
   "outputs": [
    {
     "data": {
      "text/plain": [
       "<BarContainer object of 9 artists>"
      ]
     },
     "execution_count": 31,
     "metadata": {},
     "output_type": "execute_result"
    },
    {
     "data": {
      "image/png": "[encoded data removed]",
      "text/plain": [
       "<Figure size 432x288 with 1 Axes>"
      ]
     },
     "metadata": {},
     "output_type": "display_data"
    }
   ],
   "source": [
    "x,y=np.unique([len(name) for name in nombres],return_counts=True)\n",
    "plt.bar(x,y)"
   ]
  },
  {
   "cell_type": "code",
   "execution_count": 32,
   "metadata": {},
   "outputs": [],
   "source": [
    "def give_possible(index,length):\n",
    "        possible=list(range(index-2,index+3))\n",
    "        possible=list(np.maximum(possible,0))\n",
    "        possible=list(np.minimum(possible,length-1))\n",
    "        possible=list(set(possible))\n",
    "        possible.remove(index)\n",
    "        return sorted(possible)"
   ]
  },
  {
   "cell_type": "code",
   "execution_count": 33,
   "metadata": {},
   "outputs": [],
   "source": [
    "X=[]\n",
    "Y=[]\n",
    "random.seed(0)\n",
    "for name in nombres:\n",
    "    ix1,ix2=random.sample(range(len(name)), 2)\n",
    "    possible = lambda x: give_possible(x, len(name))\n",
    "    for index in [ix1,ix2]:\n",
    "        indices=possible(index)\n",
    "        for ix in indices:\n",
    "            x=np.zeros(27)\n",
    "            x[char2ix[name[index]]]=1\n",
    "            X.append(x)\n",
    "            Y.append(char2ix[name[ix]])"
   ]
  },
  {
   "cell_type": "code",
   "execution_count": 34,
   "metadata": {},
   "outputs": [],
   "source": [
    "X=np.array(X)\n",
    "Y=np.array(Y)"
   ]
  },
  {
   "cell_type": "code",
   "execution_count": 35,
   "metadata": {},
   "outputs": [
    {
     "data": {
      "text/plain": [
       "(71165, 27)"
      ]
     },
     "execution_count": 35,
     "metadata": {},
     "output_type": "execute_result"
    }
   ],
   "source": [
    "X.shape"
   ]
  },
  {
   "cell_type": "code",
   "execution_count": 36,
   "metadata": {},
   "outputs": [
    {
     "data": {
      "text/plain": [
       "(71165,)"
      ]
     },
     "execution_count": 36,
     "metadata": {},
     "output_type": "execute_result"
    }
   ],
   "source": [
    "Y.shape"
   ]
  },
  {
   "cell_type": "code",
   "execution_count": 37,
   "metadata": {},
   "outputs": [],
   "source": [
    "import tensorflow as tf\n",
    "gpus = tf.config.experimental.list_physical_devices('GPU')\n",
    "tf.config.experimental.set_virtual_device_configuration(gpus[0], [tf.config.experimental.VirtualDeviceConfiguration(memory_limit=2048)])"
   ]
  },
  {
   "cell_type": "code",
   "execution_count": 42,
   "metadata": {},
   "outputs": [],
   "source": [
    "from tensorflow.keras.layers import Dense, Input\n",
    "from tensorflow.keras.models import Sequential"
   ]
  },
  {
   "cell_type": "code",
   "execution_count": 39,
   "metadata": {},
   "outputs": [],
   "source": [
    "Embedding = Dense(2, use_bias=False)\n",
    "Decoder = Dense(27, activation='softmax')"
   ]
  },
  {
   "cell_type": "code",
   "execution_count": 56,
   "metadata": {},
   "outputs": [],
   "source": [
    "model = Sequential([Input(shape=27),Embedding,Decoder])"
   ]
  },
  {
   "cell_type": "code",
   "execution_count": 57,
   "metadata": {},
   "outputs": [],
   "source": [
    "model.compile(loss='sparse_categorical_crossentropy',optimizer='adam',metrics=['accuracy'])"
   ]
  },
  {
   "cell_type": "code",
   "execution_count": 58,
   "metadata": {
    "collapsed": true,
    "jupyter": {
     "outputs_hidden": true
    }
   },
   "outputs": [
    {
     "name": "stdout",
     "output_type": "stream",
     "text": [
      "Epoch 1/50\n",
      "1112/1112 [==============================] - 1s 980us/step - loss: 2.7984 - accuracy: 0.1627\n",
      "Epoch 2/50\n",
      "1112/1112 [==============================] - 1s 960us/step - loss: 2.7983 - accuracy: 0.1635\n",
      "Epoch 3/50\n",
      "1112/1112 [==============================] - 1s 970us/step - loss: 2.7983 - accuracy: 0.1625\n",
      "Epoch 4/50\n",
      "1112/1112 [==============================] - 1s 966us/step - loss: 2.7983 - accuracy: 0.1629\n",
      "Epoch 5/50\n",
      "1112/1112 [==============================] - 1s 975us/step - loss: 2.7983 - accuracy: 0.1629\n",
      "Epoch 6/50\n",
      "1112/1112 [==============================] - 1s 981us/step - loss: 2.7983 - accuracy: 0.1633\n",
      "Epoch 7/50\n",
      "1112/1112 [==============================] - 1s 988us/step - loss: 2.7983 - accuracy: 0.1620\n",
      "Epoch 8/50\n",
      "1112/1112 [==============================] - 1s 988us/step - loss: 2.7983 - accuracy: 0.1626\n",
      "Epoch 9/50\n",
      "1112/1112 [==============================] - 1s 967us/step - loss: 2.7983 - accuracy: 0.1622\n",
      "Epoch 10/50\n",
      "1112/1112 [==============================] - 1s 975us/step - loss: 2.7983 - accuracy: 0.1627\n",
      "Epoch 11/50\n",
      "1112/1112 [==============================] - 1s 976us/step - loss: 2.7983 - accuracy: 0.1635\n",
      "Epoch 12/50\n",
      "1112/1112 [==============================] - 1s 968us/step - loss: 2.7983 - accuracy: 0.1617\n",
      "Epoch 13/50\n",
      "1112/1112 [==============================] - 1s 958us/step - loss: 2.7983 - accuracy: 0.1631\n",
      "Epoch 14/50\n",
      "1112/1112 [==============================] - 1s 929us/step - loss: 2.7983 - accuracy: 0.1602\n",
      "Epoch 15/50\n",
      "1112/1112 [==============================] - 1s 941us/step - loss: 2.7983 - accuracy: 0.1630\n",
      "Epoch 16/50\n",
      "1112/1112 [==============================] - 1s 932us/step - loss: 2.7983 - accuracy: 0.1632\n",
      "Epoch 17/50\n",
      "1112/1112 [==============================] - 1s 930us/step - loss: 2.7983 - accuracy: 0.1634\n",
      "Epoch 18/50\n",
      "1112/1112 [==============================] - 1s 940us/step - loss: 2.7983 - accuracy: 0.1626\n",
      "Epoch 19/50\n",
      "1112/1112 [==============================] - 1s 958us/step - loss: 2.7982 - accuracy: 0.1618\n",
      "Epoch 20/50\n",
      "1112/1112 [==============================] - 1s 972us/step - loss: 2.7983 - accuracy: 0.1630\n",
      "Epoch 21/50\n",
      "1112/1112 [==============================] - 1s 982us/step - loss: 2.7983 - accuracy: 0.1619\n",
      "Epoch 22/50\n",
      "1112/1112 [==============================] - 1s 970us/step - loss: 2.7983 - accuracy: 0.1628\n",
      "Epoch 23/50\n",
      "1112/1112 [==============================] - 1s 960us/step - loss: 2.7983 - accuracy: 0.1604\n",
      "Epoch 24/50\n",
      "1112/1112 [==============================] - 1s 943us/step - loss: 2.7983 - accuracy: 0.1631\n",
      "Epoch 25/50\n",
      "1112/1112 [==============================] - 1s 961us/step - loss: 2.7983 - accuracy: 0.1619\n",
      "Epoch 26/50\n",
      "1112/1112 [==============================] - 1s 939us/step - loss: 2.7983 - accuracy: 0.1627\n",
      "Epoch 27/50\n",
      "1112/1112 [==============================] - 1s 948us/step - loss: 2.7982 - accuracy: 0.1635\n",
      "Epoch 28/50\n",
      "1112/1112 [==============================] - 1s 943us/step - loss: 2.7983 - accuracy: 0.1635\n",
      "Epoch 29/50\n",
      "1112/1112 [==============================] - 1s 951us/step - loss: 2.7982 - accuracy: 0.1625\n",
      "Epoch 30/50\n",
      "1112/1112 [==============================] - 1s 925us/step - loss: 2.7983 - accuracy: 0.1627\n",
      "Epoch 31/50\n",
      "1112/1112 [==============================] - 1s 925us/step - loss: 2.7983 - accuracy: 0.1636\n",
      "Epoch 32/50\n",
      "1112/1112 [==============================] - 1s 955us/step - loss: 2.7983 - accuracy: 0.1632\n",
      "Epoch 33/50\n",
      "1112/1112 [==============================] - 1s 933us/step - loss: 2.7983 - accuracy: 0.1628\n",
      "Epoch 34/50\n",
      "1112/1112 [==============================] - 1s 927us/step - loss: 2.7983 - accuracy: 0.1632\n",
      "Epoch 35/50\n",
      "1112/1112 [==============================] - 1s 932us/step - loss: 2.7982 - accuracy: 0.1624\n",
      "Epoch 36/50\n",
      "1112/1112 [==============================] - 1s 922us/step - loss: 2.7983 - accuracy: 0.1605\n",
      "Epoch 37/50\n",
      "1112/1112 [==============================] - 1s 931us/step - loss: 2.7983 - accuracy: 0.1627\n",
      "Epoch 38/50\n",
      "1112/1112 [==============================] - 1s 929us/step - loss: 2.7983 - accuracy: 0.1627\n",
      "Epoch 39/50\n",
      "1112/1112 [==============================] - 1s 924us/step - loss: 2.7982 - accuracy: 0.1632\n",
      "Epoch 40/50\n",
      "1112/1112 [==============================] - 1s 933us/step - loss: 2.7983 - accuracy: 0.1628\n",
      "Epoch 41/50\n",
      "1112/1112 [==============================] - 1s 931us/step - loss: 2.7983 - accuracy: 0.1632\n",
      "Epoch 42/50\n",
      "1112/1112 [==============================] - 1s 935us/step - loss: 2.7983 - accuracy: 0.1628\n",
      "Epoch 43/50\n",
      "1112/1112 [==============================] - 1s 930us/step - loss: 2.7983 - accuracy: 0.1626\n",
      "Epoch 44/50\n",
      "1112/1112 [==============================] - 1s 934us/step - loss: 2.7983 - accuracy: 0.1631\n",
      "Epoch 45/50\n",
      "1112/1112 [==============================] - 1s 962us/step - loss: 2.7982 - accuracy: 0.1632\n",
      "Epoch 46/50\n",
      "1112/1112 [==============================] - 1s 942us/step - loss: 2.7983 - accuracy: 0.1634\n",
      "Epoch 47/50\n",
      "1112/1112 [==============================] - 1s 961us/step - loss: 2.7983 - accuracy: 0.1603\n",
      "Epoch 48/50\n",
      "1112/1112 [==============================] - 1s 975us/step - loss: 2.7982 - accuracy: 0.1627\n",
      "Epoch 49/50\n",
      "1112/1112 [==============================] - 1s 1ms/step - loss: 2.7983 - accuracy: 0.1618\n",
      "Epoch 50/50\n",
      "1112/1112 [==============================] - 1s 1ms/step - loss: 2.7983 - accuracy: 0.1634\n"
     ]
    },
    {
     "data": {
      "text/plain": [
       "<tensorflow.python.keras.callbacks.History at 0x7fbfe069e490>"
      ]
     },
     "execution_count": 58,
     "metadata": {},
     "output_type": "execute_result"
    }
   ],
   "source": [
    "model.fit(X,Y,batch_size=64, epochs=50, verbose=1)"
   ]
  },
  {
   "cell_type": "code",
   "execution_count": 59,
   "metadata": {},
   "outputs": [],
   "source": [
    "emb_matrix=Embedding.get_weights()[0]"
   ]
  },
  {
   "cell_type": "code",
   "execution_count": 60,
   "metadata": {},
   "outputs": [
    {
     "data": {
      "text/plain": [
       "array([-0.25855282, -0.39667952], dtype=float32)"
      ]
     },
     "execution_count": 60,
     "metadata": {},
     "output_type": "execute_result"
    }
   ],
   "source": [
    "emb_matrix[0]"
   ]
  },
  {
   "cell_type": "code",
   "execution_count": 61,
   "metadata": {},
   "outputs": [
    {
     "data": {
      "image/png": "[encoded data removed]",
      "text/plain": [
       "<Figure size 1080x720 with 1 Axes>"
      ]
     },
     "metadata": {},
     "output_type": "display_data"
    }
   ],
   "source": [
    "plt.figure(figsize=(15,10))\n",
    "plt.scatter(*emb_matrix.T,c='white')\n",
    "for i in range(27):\n",
    "    x,y = emb_matrix[i]\n",
    "    plt.text(x+9e-3,y+5e-3,distinct[i],color='white')"
   ]
  },
  {
   "cell_type": "code",
   "execution_count": null,
   "metadata": {},
   "outputs": [],
   "source": []
  }
 ],
 "metadata": {
  "kernelspec": {
   "display_name": "Python 3",
   "language": "python",
   "name": "python3"
  },
  "language_info": {
   "codemirror_mode": {
    "name": "ipython",
    "version": 3
   },
   "file_extension": ".py",
   "mimetype": "text/x-python",
   "name": "python",
   "nbconvert_exporter": "python",
   "pygments_lexer": "ipython3",
   "version": "3.8.5"
  }
 },
 "nbformat": 4,
 "nbformat_minor": 4
}
